{
 "cells": [
  {
   "cell_type": "markdown",
   "id": "22ec093d",
   "metadata": {},
   "source": [
    "<h1>Jan Andersson - sba20368</h1>"
   ]
  },
  {
   "cell_type": "code",
   "execution_count": 1,
   "id": "1b680323",
   "metadata": {},
   "outputs": [],
   "source": [
    "import pandas as pd\n",
    "import numpy as np\n",
    "\n",
    "# Visualization libraries\n",
    "import matplotlib as plt\n",
    "import seaborn as sns"
   ]
  },
  {
   "cell_type": "markdown",
   "id": "b91756a1",
   "metadata": {},
   "source": [
    "<h3>Supressing warnings</h3>\n",
    "<p>Supressing warning in pandas library when doing some operations as they take up most of the space of the output and are not code critical</p>"
   ]
  },
  {
   "cell_type": "code",
   "execution_count": 2,
   "id": "a65cf276",
   "metadata": {},
   "outputs": [],
   "source": [
    "import warnings\n",
    "warnings.filterwarnings(\"ignore\")"
   ]
  },
  {
   "cell_type": "markdown",
   "id": "99193e4e",
   "metadata": {},
   "source": [
    "<h3>Loading data and preparing data</h3>\n",
    "<p>Loading the data into a dataframe from a Comma-separated values (CSV) dataset titled:\n",
    "<ul>\n",
    "  <li><code>cattle_births_month_county.csv</code></li>\n",
    "  <li><code>Supply.csv</code></li>\n",
    "  <li><code>Milk_Sales_for_Human_Consumption.csv</code></li>\n",
    "</ul>\n",
    "\n",
    "<h4>The aim</h4>\n",
    "To load the dataset using the CSV pandas load protocol and present the metadata of the dataset in order to get aquianted with the shape of the data."
   ]
  },
  {
   "cell_type": "code",
   "execution_count": 3,
   "id": "1fd02459",
   "metadata": {},
   "outputs": [],
   "source": [
    "data_Births = pd.read_csv('cattle_births_month_county.csv')\n",
    "data_Supply = pd.read_csv('Supply.csv')"
   ]
  },
  {
   "cell_type": "markdown",
   "id": "114ed6f6",
   "metadata": {},
   "source": [
    "# Cattle Births Data"
   ]
  },
  {
   "cell_type": "code",
   "execution_count": 4,
   "id": "c0fe9063",
   "metadata": {},
   "outputs": [
    {
     "data": {
      "text/html": [
       "<div>\n",
       "<style scoped>\n",
       "    .dataframe tbody tr th:only-of-type {\n",
       "        vertical-align: middle;\n",
       "    }\n",
       "\n",
       "    .dataframe tbody tr th {\n",
       "        vertical-align: top;\n",
       "    }\n",
       "\n",
       "    .dataframe thead th {\n",
       "        text-align: right;\n",
       "    }\n",
       "</style>\n",
       "<table border=\"1\" class=\"dataframe\">\n",
       "  <thead>\n",
       "    <tr style=\"text-align: right;\">\n",
       "      <th></th>\n",
       "      <th>BIRTH_YEAR</th>\n",
       "      <th>COUNTY_ORIGIN</th>\n",
       "      <th>BIRTH_MONTH</th>\n",
       "      <th>CALF_BREED_TYPE</th>\n",
       "      <th>TOTAL_BIRTH</th>\n",
       "    </tr>\n",
       "  </thead>\n",
       "  <tbody>\n",
       "    <tr>\n",
       "      <th>0</th>\n",
       "      <td>2016</td>\n",
       "      <td>CARLOW</td>\n",
       "      <td>APR</td>\n",
       "      <td>BEEF</td>\n",
       "      <td>3670</td>\n",
       "    </tr>\n",
       "    <tr>\n",
       "      <th>1</th>\n",
       "      <td>2016</td>\n",
       "      <td>CARLOW</td>\n",
       "      <td>APR</td>\n",
       "      <td>DAIRY</td>\n",
       "      <td>680</td>\n",
       "    </tr>\n",
       "    <tr>\n",
       "      <th>2</th>\n",
       "      <td>2016</td>\n",
       "      <td>CARLOW</td>\n",
       "      <td>AUG</td>\n",
       "      <td>BEEF</td>\n",
       "      <td>778</td>\n",
       "    </tr>\n",
       "    <tr>\n",
       "      <th>3</th>\n",
       "      <td>2016</td>\n",
       "      <td>CARLOW</td>\n",
       "      <td>AUG</td>\n",
       "      <td>DAIRY</td>\n",
       "      <td>80</td>\n",
       "    </tr>\n",
       "    <tr>\n",
       "      <th>4</th>\n",
       "      <td>2016</td>\n",
       "      <td>CARLOW</td>\n",
       "      <td>DEC</td>\n",
       "      <td>BEEF</td>\n",
       "      <td>835</td>\n",
       "    </tr>\n",
       "  </tbody>\n",
       "</table>\n",
       "</div>"
      ],
      "text/plain": [
       "   BIRTH_YEAR COUNTY_ORIGIN BIRTH_MONTH CALF_BREED_TYPE  TOTAL_BIRTH\n",
       "0        2016        CARLOW         APR            BEEF         3670\n",
       "1        2016        CARLOW         APR           DAIRY          680\n",
       "2        2016        CARLOW         AUG            BEEF          778\n",
       "3        2016        CARLOW         AUG           DAIRY           80\n",
       "4        2016        CARLOW         DEC            BEEF          835"
      ]
     },
     "execution_count": 4,
     "metadata": {},
     "output_type": "execute_result"
    }
   ],
   "source": [
    "data_Births.head(5)"
   ]
  },
  {
   "cell_type": "code",
   "execution_count": 5,
   "id": "1359314d",
   "metadata": {},
   "outputs": [
    {
     "data": {
      "text/plain": [
       "count      624.000000\n",
       "mean      3654.964744\n",
       "std       7010.470855\n",
       "min          6.000000\n",
       "25%        454.500000\n",
       "50%       1561.500000\n",
       "75%       3825.750000\n",
       "max      95720.000000\n",
       "Name: TOTAL_BIRTH, dtype: float64"
      ]
     },
     "execution_count": 5,
     "metadata": {},
     "output_type": "execute_result"
    }
   ],
   "source": [
    "data_Births['TOTAL_BIRTH'].describe(include='all')"
   ]
  },
  {
   "cell_type": "markdown",
   "id": "a1258fdc",
   "metadata": {},
   "source": [
    "<h1>Converting data to categorical</h1>\n",
    "I converted the data into categorical for the month of cattle birth and breed type.\n",
    "</br>\n",
    "<b>Where:</b>\n",
    "JAN:1\n",
    "FEB:2\n",
    "MAR:3\n",
    "APR:4\n",
    "MAY:5\n",
    "JUN:6\n",
    "JUL:7\n",
    "AUG:8\n",
    "SEP:9\n",
    "OCT:10\n",
    "NOV:11\n",
    "DEC:12\n",
    "</br>\n",
    "<b>and</b> \n",
    "</br>\n",
    "BEEF:1\n",
    "DAIRY:2"
   ]
  },
  {
   "cell_type": "code",
   "execution_count": 6,
   "id": "e1027e4e",
   "metadata": {},
   "outputs": [
    {
     "data": {
      "text/html": [
       "<div>\n",
       "<style scoped>\n",
       "    .dataframe tbody tr th:only-of-type {\n",
       "        vertical-align: middle;\n",
       "    }\n",
       "\n",
       "    .dataframe tbody tr th {\n",
       "        vertical-align: top;\n",
       "    }\n",
       "\n",
       "    .dataframe thead th {\n",
       "        text-align: right;\n",
       "    }\n",
       "</style>\n",
       "<table border=\"1\" class=\"dataframe\">\n",
       "  <thead>\n",
       "    <tr style=\"text-align: right;\">\n",
       "      <th></th>\n",
       "      <th>BIRTH_YEAR</th>\n",
       "      <th>COUNTY_ORIGIN</th>\n",
       "      <th>BIRTH_MONTH</th>\n",
       "      <th>CALF_BREED_TYPE</th>\n",
       "      <th>TOTAL_BIRTH</th>\n",
       "    </tr>\n",
       "  </thead>\n",
       "  <tbody>\n",
       "    <tr>\n",
       "      <th>0</th>\n",
       "      <td>2016</td>\n",
       "      <td>CARLOW</td>\n",
       "      <td>4</td>\n",
       "      <td>BEEF</td>\n",
       "      <td>3670</td>\n",
       "    </tr>\n",
       "    <tr>\n",
       "      <th>1</th>\n",
       "      <td>2016</td>\n",
       "      <td>CARLOW</td>\n",
       "      <td>4</td>\n",
       "      <td>DAIRY</td>\n",
       "      <td>680</td>\n",
       "    </tr>\n",
       "    <tr>\n",
       "      <th>2</th>\n",
       "      <td>2016</td>\n",
       "      <td>CARLOW</td>\n",
       "      <td>8</td>\n",
       "      <td>BEEF</td>\n",
       "      <td>778</td>\n",
       "    </tr>\n",
       "    <tr>\n",
       "      <th>3</th>\n",
       "      <td>2016</td>\n",
       "      <td>CARLOW</td>\n",
       "      <td>8</td>\n",
       "      <td>DAIRY</td>\n",
       "      <td>80</td>\n",
       "    </tr>\n",
       "    <tr>\n",
       "      <th>4</th>\n",
       "      <td>2016</td>\n",
       "      <td>CARLOW</td>\n",
       "      <td>12</td>\n",
       "      <td>BEEF</td>\n",
       "      <td>835</td>\n",
       "    </tr>\n",
       "    <tr>\n",
       "      <th>...</th>\n",
       "      <td>...</td>\n",
       "      <td>...</td>\n",
       "      <td>...</td>\n",
       "      <td>...</td>\n",
       "      <td>...</td>\n",
       "    </tr>\n",
       "    <tr>\n",
       "      <th>619</th>\n",
       "      <td>2016</td>\n",
       "      <td>WICKLOW</td>\n",
       "      <td>11</td>\n",
       "      <td>DAIRY</td>\n",
       "      <td>956</td>\n",
       "    </tr>\n",
       "    <tr>\n",
       "      <th>620</th>\n",
       "      <td>2016</td>\n",
       "      <td>WICKLOW</td>\n",
       "      <td>10</td>\n",
       "      <td>BEEF</td>\n",
       "      <td>1308</td>\n",
       "    </tr>\n",
       "    <tr>\n",
       "      <th>621</th>\n",
       "      <td>2016</td>\n",
       "      <td>WICKLOW</td>\n",
       "      <td>10</td>\n",
       "      <td>DAIRY</td>\n",
       "      <td>1217</td>\n",
       "    </tr>\n",
       "    <tr>\n",
       "      <th>622</th>\n",
       "      <td>2016</td>\n",
       "      <td>WICKLOW</td>\n",
       "      <td>9</td>\n",
       "      <td>BEEF</td>\n",
       "      <td>1210</td>\n",
       "    </tr>\n",
       "    <tr>\n",
       "      <th>623</th>\n",
       "      <td>2016</td>\n",
       "      <td>WICKLOW</td>\n",
       "      <td>9</td>\n",
       "      <td>DAIRY</td>\n",
       "      <td>879</td>\n",
       "    </tr>\n",
       "  </tbody>\n",
       "</table>\n",
       "<p>624 rows × 5 columns</p>\n",
       "</div>"
      ],
      "text/plain": [
       "     BIRTH_YEAR COUNTY_ORIGIN BIRTH_MONTH CALF_BREED_TYPE  TOTAL_BIRTH\n",
       "0          2016        CARLOW           4            BEEF         3670\n",
       "1          2016        CARLOW           4           DAIRY          680\n",
       "2          2016        CARLOW           8            BEEF          778\n",
       "3          2016        CARLOW           8           DAIRY           80\n",
       "4          2016        CARLOW          12            BEEF          835\n",
       "..          ...           ...         ...             ...          ...\n",
       "619        2016       WICKLOW          11           DAIRY          956\n",
       "620        2016       WICKLOW          10            BEEF         1308\n",
       "621        2016       WICKLOW          10           DAIRY         1217\n",
       "622        2016       WICKLOW           9            BEEF         1210\n",
       "623        2016       WICKLOW           9           DAIRY          879\n",
       "\n",
       "[624 rows x 5 columns]"
      ]
     },
     "metadata": {},
     "output_type": "display_data"
    }
   ],
   "source": [
    "data_Births['BIRTH_MONTH'] = data_Births['BIRTH_MONTH'].replace(['JAN','FEB','MAR','APR','MAY','JUN','JUL','AUG','SEP','OCT','NOV','DEC'],['1','2','3','4','5','6','7','8','9','10','11','12'])\n",
    "display(data_Births)"
   ]
  },
  {
   "cell_type": "code",
   "execution_count": 8,
   "id": "1dc9fd67",
   "metadata": {},
   "outputs": [
    {
     "data": {
      "text/html": [
       "<div>\n",
       "<style scoped>\n",
       "    .dataframe tbody tr th:only-of-type {\n",
       "        vertical-align: middle;\n",
       "    }\n",
       "\n",
       "    .dataframe tbody tr th {\n",
       "        vertical-align: top;\n",
       "    }\n",
       "\n",
       "    .dataframe thead th {\n",
       "        text-align: right;\n",
       "    }\n",
       "</style>\n",
       "<table border=\"1\" class=\"dataframe\">\n",
       "  <thead>\n",
       "    <tr style=\"text-align: right;\">\n",
       "      <th></th>\n",
       "      <th>BIRTH_YEAR</th>\n",
       "      <th>COUNTY_ORIGIN</th>\n",
       "      <th>BIRTH_MONTH</th>\n",
       "      <th>CALF_BREED_TYPE</th>\n",
       "      <th>TOTAL_BIRTH</th>\n",
       "    </tr>\n",
       "  </thead>\n",
       "  <tbody>\n",
       "    <tr>\n",
       "      <th>0</th>\n",
       "      <td>2016</td>\n",
       "      <td>CARLOW</td>\n",
       "      <td>4</td>\n",
       "      <td>1</td>\n",
       "      <td>3670</td>\n",
       "    </tr>\n",
       "    <tr>\n",
       "      <th>1</th>\n",
       "      <td>2016</td>\n",
       "      <td>CARLOW</td>\n",
       "      <td>4</td>\n",
       "      <td>2</td>\n",
       "      <td>680</td>\n",
       "    </tr>\n",
       "    <tr>\n",
       "      <th>2</th>\n",
       "      <td>2016</td>\n",
       "      <td>CARLOW</td>\n",
       "      <td>8</td>\n",
       "      <td>1</td>\n",
       "      <td>778</td>\n",
       "    </tr>\n",
       "    <tr>\n",
       "      <th>3</th>\n",
       "      <td>2016</td>\n",
       "      <td>CARLOW</td>\n",
       "      <td>8</td>\n",
       "      <td>2</td>\n",
       "      <td>80</td>\n",
       "    </tr>\n",
       "    <tr>\n",
       "      <th>4</th>\n",
       "      <td>2016</td>\n",
       "      <td>CARLOW</td>\n",
       "      <td>12</td>\n",
       "      <td>1</td>\n",
       "      <td>835</td>\n",
       "    </tr>\n",
       "    <tr>\n",
       "      <th>...</th>\n",
       "      <td>...</td>\n",
       "      <td>...</td>\n",
       "      <td>...</td>\n",
       "      <td>...</td>\n",
       "      <td>...</td>\n",
       "    </tr>\n",
       "    <tr>\n",
       "      <th>619</th>\n",
       "      <td>2016</td>\n",
       "      <td>WICKLOW</td>\n",
       "      <td>11</td>\n",
       "      <td>2</td>\n",
       "      <td>956</td>\n",
       "    </tr>\n",
       "    <tr>\n",
       "      <th>620</th>\n",
       "      <td>2016</td>\n",
       "      <td>WICKLOW</td>\n",
       "      <td>10</td>\n",
       "      <td>1</td>\n",
       "      <td>1308</td>\n",
       "    </tr>\n",
       "    <tr>\n",
       "      <th>621</th>\n",
       "      <td>2016</td>\n",
       "      <td>WICKLOW</td>\n",
       "      <td>10</td>\n",
       "      <td>2</td>\n",
       "      <td>1217</td>\n",
       "    </tr>\n",
       "    <tr>\n",
       "      <th>622</th>\n",
       "      <td>2016</td>\n",
       "      <td>WICKLOW</td>\n",
       "      <td>9</td>\n",
       "      <td>1</td>\n",
       "      <td>1210</td>\n",
       "    </tr>\n",
       "    <tr>\n",
       "      <th>623</th>\n",
       "      <td>2016</td>\n",
       "      <td>WICKLOW</td>\n",
       "      <td>9</td>\n",
       "      <td>2</td>\n",
       "      <td>879</td>\n",
       "    </tr>\n",
       "  </tbody>\n",
       "</table>\n",
       "<p>624 rows × 5 columns</p>\n",
       "</div>"
      ],
      "text/plain": [
       "     BIRTH_YEAR COUNTY_ORIGIN BIRTH_MONTH CALF_BREED_TYPE  TOTAL_BIRTH\n",
       "0          2016        CARLOW           4               1         3670\n",
       "1          2016        CARLOW           4               2          680\n",
       "2          2016        CARLOW           8               1          778\n",
       "3          2016        CARLOW           8               2           80\n",
       "4          2016        CARLOW          12               1          835\n",
       "..          ...           ...         ...             ...          ...\n",
       "619        2016       WICKLOW          11               2          956\n",
       "620        2016       WICKLOW          10               1         1308\n",
       "621        2016       WICKLOW          10               2         1217\n",
       "622        2016       WICKLOW           9               1         1210\n",
       "623        2016       WICKLOW           9               2          879\n",
       "\n",
       "[624 rows x 5 columns]"
      ]
     },
     "metadata": {},
     "output_type": "display_data"
    }
   ],
   "source": [
    "data_Births['CALF_BREED_TYPE'] = data_Births['CALF_BREED_TYPE'].replace(['BEEF','DAIRY'],['1','2'])\n",
    "display(data_Births)"
   ]
  },
  {
   "cell_type": "code",
   "execution_count": null,
   "id": "366c7f84",
   "metadata": {},
   "outputs": [],
   "source": [
    "sns.pairplot(data_Births)"
   ]
  },
  {
   "cell_type": "code",
   "execution_count": null,
   "id": "7749d2b4",
   "metadata": {},
   "outputs": [],
   "source": [
    "import matplotlib.pyplot as plt \n",
    "sizes= data_Births['CALF_BREED_TYPE'].value_counts()\n",
    "colors=['red', 'yellow']\n",
    "labels= ['Beef', 'Dairy']\n",
    "plt.pie(sizes, labels=labels, colors=colors ,startangle=90, shadow=True, explode=(0.2, 0.1) ,autopct='%1.0f%%')\n",
    "plt.title('Breakdown of beef and dairy data')\n",
    "plt.axis('equal')\n",
    "plt.legend(labels, loc=\"best\")\n",
    "plt.figure(dpi=1200)\n",
    "plt.show()"
   ]
  },
  {
   "cell_type": "markdown",
   "id": "12178d01",
   "metadata": {},
   "source": [
    "As we can see the data for the cattle births is equaly distributed for the Dairy and Beef. Meaning the data has a valid amount of entrees for both groups of cultivated animals and holds integrity."
   ]
  },
  {
   "cell_type": "markdown",
   "id": "b8eed022",
   "metadata": {},
   "source": [
    "# Dairy Supply Data"
   ]
  },
  {
   "cell_type": "code",
   "execution_count": null,
   "id": "09ee18de",
   "metadata": {},
   "outputs": [],
   "source": [
    "data_Supply.info()"
   ]
  },
  {
   "cell_type": "code",
   "execution_count": null,
   "id": "2d0ed562",
   "metadata": {},
   "outputs": [],
   "source": [
    "data_Supply.head(5)"
   ]
  },
  {
   "cell_type": "code",
   "execution_count": null,
   "id": "7be0c402",
   "metadata": {},
   "outputs": [],
   "source": [
    "data_Supply['VALUE'].describe(include='all')"
   ]
  },
  {
   "cell_type": "markdown",
   "id": "fdb3723e",
   "metadata": {},
   "source": [
    "<h1>Stratified Sampling</h1>\n",
    "I have used Stratified Sampling, the population is divided into groups based on characteristics.\n",
    "The two data charachteristics I chose for the strata are 'Year' and 'Product Type\t' "
   ]
  },
  {
   "cell_type": "code",
   "execution_count": null,
   "id": "3a3bf7cc",
   "metadata": {},
   "outputs": [],
   "source": [
    "data_Supply.groupby(['Year','Product Type'], group_keys=False).apply(lambda x: x.sample(1))"
   ]
  },
  {
   "cell_type": "markdown",
   "id": "852bacb5",
   "metadata": {},
   "source": [
    "I will drop the unneccesary column as we have no background information on what data that feature represents or a reference to transforems the data into a usable source."
   ]
  },
  {
   "cell_type": "code",
   "execution_count": null,
   "id": "580115c0",
   "metadata": {},
   "outputs": [],
   "source": [
    "data_Supply = data_Supply.drop(['C02064V02491'], axis=1)"
   ]
  },
  {
   "cell_type": "code",
   "execution_count": null,
   "id": "a75f751c",
   "metadata": {},
   "outputs": [],
   "source": [
    "data_Supply['Product Type'].value_counts()"
   ]
  },
  {
   "cell_type": "markdown",
   "id": "5e205645",
   "metadata": {},
   "source": [
    "Within the dataset for the sales of dairy throughout the years in Ireland we have 5 different categories representing the items as displayed with the value counts of the product type feature."
   ]
  },
  {
   "cell_type": "code",
   "execution_count": null,
   "id": "0db2d986",
   "metadata": {},
   "outputs": [],
   "source": [
    "sns.pairplot(data_Supply)"
   ]
  },
  {
   "cell_type": "code",
   "execution_count": null,
   "id": "4c98db07",
   "metadata": {},
   "outputs": [],
   "source": []
  }
 ],
 "metadata": {
  "kernelspec": {
   "display_name": "Python 3 (ipykernel)",
   "language": "python",
   "name": "python3"
  },
  "language_info": {
   "codemirror_mode": {
    "name": "ipython",
    "version": 3
   },
   "file_extension": ".py",
   "mimetype": "text/x-python",
   "name": "python",
   "nbconvert_exporter": "python",
   "pygments_lexer": "ipython3",
   "version": "3.9.12"
  }
 },
 "nbformat": 4,
 "nbformat_minor": 5
}
