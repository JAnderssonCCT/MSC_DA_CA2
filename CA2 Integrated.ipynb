{
 "cells": [
  {
   "cell_type": "markdown",
   "id": "22ec093d",
   "metadata": {},
   "source": [
    "<h1>Jan Andersson - sba20368</h1>"
   ]
  },
  {
   "cell_type": "code",
   "execution_count": 1,
   "id": "1b680323",
   "metadata": {},
   "outputs": [],
   "source": [
    "import pandas as pd\n",
    "import numpy as np\n",
    "\n",
    "# Visualization libraries\n",
    "import matplotlib as plt\n",
    "import seaborn as sns"
   ]
  },
  {
   "cell_type": "markdown",
   "id": "b91756a1",
   "metadata": {},
   "source": [
    "<h3>Supressing warnings</h3>\n",
    "<p>Supressing warning in pandas library when doing some operations as they take up most of the space of the output and are not code critical</p>"
   ]
  },
  {
   "cell_type": "code",
   "execution_count": 2,
   "id": "a65cf276",
   "metadata": {},
   "outputs": [],
   "source": [
    "import warnings\n",
    "warnings.filterwarnings(\"ignore\")"
   ]
  },
  {
   "cell_type": "markdown",
   "id": "99193e4e",
   "metadata": {},
   "source": [
    "<h3>Loading data and preparing data</h3>\n",
    "<p>Loading the data into a dataframe from a Comma-separated values (CSV) dataset titled:\n",
    "<ul>\n",
    "  <li><code>cattle_births_month_county.csv</code></li>\n",
    "  <li><code>Supply.csv</code></li>\n",
    "  <li><code>Milk_Sales_for_Human_Consumption.csv</code></li>\n",
    "</ul>\n",
    "\n",
    "<h4>The aim</h4>\n",
    "To load the dataset using the CSV pandas load protocol and present the metadata of the dataset in order to get aquianted with the shape of the data."
   ]
  },
  {
   "cell_type": "code",
   "execution_count": 3,
   "id": "1fd02459",
   "metadata": {},
   "outputs": [],
   "source": [
    "data_Births = pd.read_csv('cattle_births_month_county.csv')\n",
    "data_Supply = pd.read_csv('Supply.csv')"
   ]
  },
  {
   "cell_type": "markdown",
   "id": "114ed6f6",
   "metadata": {},
   "source": [
    "# Cattle Births Data"
   ]
  },
  {
   "cell_type": "code",
   "execution_count": 4,
   "id": "c0fe9063",
   "metadata": {},
   "outputs": [
    {
     "data": {
      "text/html": [
       "<div>\n",
       "<style scoped>\n",
       "    .dataframe tbody tr th:only-of-type {\n",
       "        vertical-align: middle;\n",
       "    }\n",
       "\n",
       "    .dataframe tbody tr th {\n",
       "        vertical-align: top;\n",
       "    }\n",
       "\n",
       "    .dataframe thead th {\n",
       "        text-align: right;\n",
       "    }\n",
       "</style>\n",
       "<table border=\"1\" class=\"dataframe\">\n",
       "  <thead>\n",
       "    <tr style=\"text-align: right;\">\n",
       "      <th></th>\n",
       "      <th>BIRTH_YEAR</th>\n",
       "      <th>COUNTY_ORIGIN</th>\n",
       "      <th>BIRTH_MONTH</th>\n",
       "      <th>CALF_BREED_TYPE</th>\n",
       "      <th>TOTAL_BIRTH</th>\n",
       "    </tr>\n",
       "  </thead>\n",
       "  <tbody>\n",
       "    <tr>\n",
       "      <th>0</th>\n",
       "      <td>2016</td>\n",
       "      <td>CARLOW</td>\n",
       "      <td>APR</td>\n",
       "      <td>BEEF</td>\n",
       "      <td>3670</td>\n",
       "    </tr>\n",
       "    <tr>\n",
       "      <th>1</th>\n",
       "      <td>2016</td>\n",
       "      <td>CARLOW</td>\n",
       "      <td>APR</td>\n",
       "      <td>DAIRY</td>\n",
       "      <td>680</td>\n",
       "    </tr>\n",
       "    <tr>\n",
       "      <th>2</th>\n",
       "      <td>2016</td>\n",
       "      <td>CARLOW</td>\n",
       "      <td>AUG</td>\n",
       "      <td>BEEF</td>\n",
       "      <td>778</td>\n",
       "    </tr>\n",
       "    <tr>\n",
       "      <th>3</th>\n",
       "      <td>2016</td>\n",
       "      <td>CARLOW</td>\n",
       "      <td>AUG</td>\n",
       "      <td>DAIRY</td>\n",
       "      <td>80</td>\n",
       "    </tr>\n",
       "    <tr>\n",
       "      <th>4</th>\n",
       "      <td>2016</td>\n",
       "      <td>CARLOW</td>\n",
       "      <td>DEC</td>\n",
       "      <td>BEEF</td>\n",
       "      <td>835</td>\n",
       "    </tr>\n",
       "  </tbody>\n",
       "</table>\n",
       "</div>"
      ],
      "text/plain": [
       "   BIRTH_YEAR COUNTY_ORIGIN BIRTH_MONTH CALF_BREED_TYPE  TOTAL_BIRTH\n",
       "0        2016        CARLOW         APR            BEEF         3670\n",
       "1        2016        CARLOW         APR           DAIRY          680\n",
       "2        2016        CARLOW         AUG            BEEF          778\n",
       "3        2016        CARLOW         AUG           DAIRY           80\n",
       "4        2016        CARLOW         DEC            BEEF          835"
      ]
     },
     "execution_count": 4,
     "metadata": {},
     "output_type": "execute_result"
    }
   ],
   "source": [
    "data_Births.head(5)"
   ]
  },
  {
   "cell_type": "code",
   "execution_count": 5,
   "id": "366c7f84",
   "metadata": {},
   "outputs": [
    {
     "data": {
      "text/plain": [
       "<seaborn.axisgrid.PairGrid at 0x1592e089790>"
      ]
     },
     "execution_count": 5,
     "metadata": {},
     "output_type": "execute_result"
    },
    {
     "data": {
      "image/png": "[encoded data removed]",
      "text/plain": [
       "<Figure size 360x360 with 6 Axes>"
      ]
     },
     "metadata": {
      "needs_background": "light"
     },
     "output_type": "display_data"
    }
   ],
   "source": [
    "sns.pairplot(data_Births)"
   ]
  },
  {
   "cell_type": "code",
   "execution_count": 6,
   "id": "7749d2b4",
   "metadata": {},
   "outputs": [
    {
     "data": {
      "image/png": "[encoded data removed]",
      "text/plain": [
       "<Figure size 432x288 with 1 Axes>"
      ]
     },
     "metadata": {},
     "output_type": "display_data"
    },
    {
     "data": {
      "text/plain": [
       "<Figure size 7200x4800 with 0 Axes>"
      ]
     },
     "metadata": {},
     "output_type": "display_data"
    }
   ],
   "source": [
    "import matplotlib.pyplot as plt \n",
    "sizes= data_Births['CALF_BREED_TYPE'].value_counts()\n",
    "colors=['red', 'yellow']\n",
    "labels= ['Beef', 'Dairy']\n",
    "plt.pie(sizes, labels=labels, colors=colors ,startangle=90, shadow=True, explode=(0.2, 0.1) ,autopct='%1.0f%%')\n",
    "plt.title('Breakdown of beef and dairy data')\n",
    "plt.axis('equal')\n",
    "plt.legend(labels, loc=\"best\")\n",
    "plt.figure(dpi=1200)\n",
    "plt.show()"
   ]
  },
  {
   "cell_type": "markdown",
   "id": "12178d01",
   "metadata": {},
   "source": [
    "As we can see the data for the cattle births is equaly distributed for the Dairy and Beef. Meaning the data has a valid amount of entrees for both groups of cultivated animals and holds integrity."
   ]
  },
  {
   "cell_type": "markdown",
   "id": "b8eed022",
   "metadata": {},
   "source": [
    "# Dairy Supply Data"
   ]
  },
  {
   "cell_type": "code",
   "execution_count": 17,
   "id": "09ee18de",
   "metadata": {},
   "outputs": [
    {
     "name": "stdout",
     "output_type": "stream",
     "text": [
      "<class 'pandas.core.frame.DataFrame'>\n",
      "RangeIndex: 1100 entries, 0 to 1099\n",
      "Data columns (total 7 columns):\n",
      " #   Column           Non-Null Count  Dtype  \n",
      "---  ------           --------------  -----  \n",
      " 0   STATISTIC        1100 non-null   object \n",
      " 1   Statistic Label  1100 non-null   object \n",
      " 2   TLIST(A1)        1100 non-null   int64  \n",
      " 3   Year             1100 non-null   int64  \n",
      " 4   Product Type     1100 non-null   object \n",
      " 5   UNIT             1100 non-null   object \n",
      " 6   VALUE            893 non-null    float64\n",
      "dtypes: float64(1), int64(2), object(4)\n",
      "memory usage: 60.3+ KB\n"
     ]
    }
   ],
   "source": [
    "data_Supply.info()"
   ]
  },
  {
   "cell_type": "code",
   "execution_count": 7,
   "id": "2d0ed562",
   "metadata": {},
   "outputs": [
    {
     "data": {
      "text/html": [
       "<div>\n",
       "<style scoped>\n",
       "    .dataframe tbody tr th:only-of-type {\n",
       "        vertical-align: middle;\n",
       "    }\n",
       "\n",
       "    .dataframe tbody tr th {\n",
       "        vertical-align: top;\n",
       "    }\n",
       "\n",
       "    .dataframe thead th {\n",
       "        text-align: right;\n",
       "    }\n",
       "</style>\n",
       "<table border=\"1\" class=\"dataframe\">\n",
       "  <thead>\n",
       "    <tr style=\"text-align: right;\">\n",
       "      <th></th>\n",
       "      <th>STATISTIC</th>\n",
       "      <th>Statistic Label</th>\n",
       "      <th>TLIST(A1)</th>\n",
       "      <th>Year</th>\n",
       "      <th>C02064V02491</th>\n",
       "      <th>Product Type</th>\n",
       "      <th>UNIT</th>\n",
       "      <th>VALUE</th>\n",
       "    </tr>\n",
       "  </thead>\n",
       "  <tbody>\n",
       "    <tr>\n",
       "      <th>0</th>\n",
       "      <td>ABA02C01</td>\n",
       "      <td>Usable Dairy Production</td>\n",
       "      <td>1992</td>\n",
       "      <td>1992</td>\n",
       "      <td>3</td>\n",
       "      <td>Cheese</td>\n",
       "      <td>Tonnes</td>\n",
       "      <td>94.0</td>\n",
       "    </tr>\n",
       "    <tr>\n",
       "      <th>1</th>\n",
       "      <td>ABA02C01</td>\n",
       "      <td>Usable Dairy Production</td>\n",
       "      <td>1992</td>\n",
       "      <td>1992</td>\n",
       "      <td>4</td>\n",
       "      <td>Butter</td>\n",
       "      <td>Tonnes</td>\n",
       "      <td>144.0</td>\n",
       "    </tr>\n",
       "    <tr>\n",
       "      <th>2</th>\n",
       "      <td>ABA02C01</td>\n",
       "      <td>Usable Dairy Production</td>\n",
       "      <td>1992</td>\n",
       "      <td>1992</td>\n",
       "      <td>5</td>\n",
       "      <td>Cream</td>\n",
       "      <td>Tonnes</td>\n",
       "      <td>21.0</td>\n",
       "    </tr>\n",
       "    <tr>\n",
       "      <th>3</th>\n",
       "      <td>ABA02C01</td>\n",
       "      <td>Usable Dairy Production</td>\n",
       "      <td>1992</td>\n",
       "      <td>1992</td>\n",
       "      <td>6</td>\n",
       "      <td>Milk Powder</td>\n",
       "      <td>Tonnes</td>\n",
       "      <td>157.0</td>\n",
       "    </tr>\n",
       "    <tr>\n",
       "      <th>4</th>\n",
       "      <td>ABA02C01</td>\n",
       "      <td>Usable Dairy Production</td>\n",
       "      <td>1992</td>\n",
       "      <td>1992</td>\n",
       "      <td>11</td>\n",
       "      <td>Drinking Milk &amp; Buttermilk</td>\n",
       "      <td>Tonnes</td>\n",
       "      <td>615.0</td>\n",
       "    </tr>\n",
       "  </tbody>\n",
       "</table>\n",
       "</div>"
      ],
      "text/plain": [
       "  STATISTIC          Statistic Label  TLIST(A1)  Year  C02064V02491  \\\n",
       "0  ABA02C01  Usable Dairy Production       1992  1992             3   \n",
       "1  ABA02C01  Usable Dairy Production       1992  1992             4   \n",
       "2  ABA02C01  Usable Dairy Production       1992  1992             5   \n",
       "3  ABA02C01  Usable Dairy Production       1992  1992             6   \n",
       "4  ABA02C01  Usable Dairy Production       1992  1992            11   \n",
       "\n",
       "                 Product Type    UNIT  VALUE  \n",
       "0                      Cheese  Tonnes   94.0  \n",
       "1                      Butter  Tonnes  144.0  \n",
       "2                       Cream  Tonnes   21.0  \n",
       "3                 Milk Powder  Tonnes  157.0  \n",
       "4  Drinking Milk & Buttermilk  Tonnes  615.0  "
      ]
     },
     "execution_count": 7,
     "metadata": {},
     "output_type": "execute_result"
    }
   ],
   "source": [
    "data_Supply.head(5)"
   ]
  },
  {
   "cell_type": "markdown",
   "id": "1983feda",
   "metadata": {},
   "source": [
    "I will drop the unneccesary column as we have no background information on what data that feature represents or a reference to transforems the data into a usable source."
   ]
  },
  {
   "cell_type": "code",
   "execution_count": 8,
   "id": "580115c0",
   "metadata": {},
   "outputs": [],
   "source": [
    "data_Supply = data_Supply.drop(['C02064V02491'], axis=1)"
   ]
  },
  {
   "cell_type": "code",
   "execution_count": 9,
   "id": "a75f751c",
   "metadata": {},
   "outputs": [
    {
     "data": {
      "text/plain": [
       "Cheese                        220\n",
       "Butter                        220\n",
       "Cream                         220\n",
       "Milk Powder                   220\n",
       "Drinking Milk & Buttermilk    220\n",
       "Name: Product Type, dtype: int64"
      ]
     },
     "execution_count": 9,
     "metadata": {},
     "output_type": "execute_result"
    }
   ],
   "source": [
    "data_Supply['Product Type'].value_counts()"
   ]
  },
  {
   "cell_type": "markdown",
   "id": "5e205645",
   "metadata": {},
   "source": [
    "Within the dataset for the sales of dairy throughout the years in Ireland we have 5 different categories representing the items as displayed with the value counts of the product type feature."
   ]
  },
  {
   "cell_type": "code",
   "execution_count": 10,
   "id": "0db2d986",
   "metadata": {},
   "outputs": [
    {
     "data": {
      "text/plain": [
       "<seaborn.axisgrid.PairGrid at 0x1592e3c1640>"
      ]
     },
     "execution_count": 10,
     "metadata": {},
     "output_type": "execute_result"
    },
    {
     "data": {
      "image/png": "[encoded data removed]",
      "text/plain": [
       "<Figure size 540x540 with 12 Axes>"
      ]
     },
     "metadata": {
      "needs_background": "light"
     },
     "output_type": "display_data"
    }
   ],
   "source": [
    "sns.pairplot(data_Supply)"
   ]
  },
  {
   "cell_type": "code",
   "execution_count": null,
   "id": "4c98db07",
   "metadata": {},
   "outputs": [],
   "source": []
  }
 ],
 "metadata": {
  "kernelspec": {
   "display_name": "Python 3 (ipykernel)",
   "language": "python",
   "name": "python3"
  },
  "language_info": {
   "codemirror_mode": {
    "name": "ipython",
    "version": 3
   },
   "file_extension": ".py",
   "mimetype": "text/x-python",
   "name": "python",
   "nbconvert_exporter": "python",
   "pygments_lexer": "ipython3",
   "version": "3.9.12"
  }
 },
 "nbformat": 4,
 "nbformat_minor": 5
}
